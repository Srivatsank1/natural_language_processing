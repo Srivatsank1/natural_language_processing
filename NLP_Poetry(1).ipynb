{
  "nbformat": 4,
  "nbformat_minor": 0,
  "metadata": {
    "colab": {
      "name": "NLP_Poetry",
      "version": "0.3.2",
      "provenance": [],
      "collapsed_sections": []
    },
    "kernelspec": {
      "name": "python2",
      "display_name": "Python 2"
    },
    "accelerator": "GPU"
  },
  "cells": [
    {
      "cell_type": "code",
      "metadata": {
        "id": "BOwsuGQQY9OL",
        "colab_type": "code",
        "colab": {}
      },
      "source": [
        "from tensorflow.keras.preprocessing.sequence import pad_sequences\n",
        "from tensorflow.keras.layers import Embedding, LSTM, Dense, Dropout, Bidirectional\n",
        "from tensorflow.keras.preprocessing.text import Tokenizer\n",
        "from tensorflow.keras.models import Sequential\n",
        "from tensorflow.keras.optimizers import Adam\n",
        "from tensorflow.keras import regularizers\n",
        "import tensorflow.keras.utils as ku \n",
        "import numpy as np "
      ],
      "execution_count": 0,
      "outputs": []
    },
    {
      "cell_type": "code",
      "metadata": {
        "colab_type": "code",
        "id": "PRnDnCW-Z7qv",
        "outputId": "6de12e1c-f310-46f5-9b80-c2f87b431434",
        "colab": {
          "base_uri": "https://localhost:8080/",
          "height": 219
        }
      },
      "source": [
        "tokenizer = Tokenizer()\n",
        "!wget --no-check-certificate \\\n",
        "    https://storage.googleapis.com/laurencemoroney-blog.appspot.com/sonnets.txt \\\n",
        "    -O /tmp/sonnets.txt\n",
        "data = open('/tmp/sonnets.txt').read()\n",
        "\n",
        "corpus = data.lower().split(\"\\n\")\n",
        "\n",
        "\n",
        "tokenizer.fit_on_texts(corpus)\n",
        "total_words = len(tokenizer.word_index) + 1\n",
        "\n",
        "# create input sequences using list of tokens\n",
        "input_sequences = []\n",
        "for line in corpus:\n",
        "\ttoken_list = tokenizer.texts_to_sequences([line])[0]\n",
        "\tfor i in range(1, len(token_list)):\n",
        "\t\tn_gram_sequence = token_list[:i+1]\n",
        "\t\tinput_sequences.append(n_gram_sequence)\n",
        "\n",
        "\n",
        "# pad sequences \n",
        "max_sequence_len = max([len(x) for x in input_sequences])\n",
        "input_sequences = np.array(pad_sequences(input_sequences, maxlen=max_sequence_len, padding='pre'))\n",
        "\n",
        "# create predictors and label\n",
        "predictors, label = input_sequences[:,:-1],input_sequences[:,-1]\n",
        "\n",
        "label = ku.to_categorical(label, num_classes=total_words)"
      ],
      "execution_count": 0,
      "outputs": [
        {
          "output_type": "stream",
          "text": [
            "--2019-07-03 13:15:51--  https://storage.googleapis.com/laurencemoroney-blog.appspot.com/sonnets.txt\n",
            "Resolving storage.googleapis.com (storage.googleapis.com)... 74.125.68.128, 2404:6800:4003:c04::80\n",
            "Connecting to storage.googleapis.com (storage.googleapis.com)|74.125.68.128|:443... connected.\n",
            "HTTP request sent, awaiting response... 200 OK\n",
            "Length: 93578 (91K) [text/plain]\n",
            "Saving to: ‘/tmp/sonnets.txt’\n",
            "\n",
            "\r/tmp/sonnets.txt      0%[                    ]       0  --.-KB/s               \r/tmp/sonnets.txt    100%[===================>]  91.38K  --.-KB/s    in 0.001s  \n",
            "\n",
            "2019-07-03 13:15:51 (120 MB/s) - ‘/tmp/sonnets.txt’ saved [93578/93578]\n",
            "\n"
          ],
          "name": "stdout"
        }
      ]
    },
    {
      "cell_type": "code",
      "metadata": {
        "id": "w9vH8Y59ajYL",
        "colab_type": "code",
        "outputId": "76177a0c-cfd4-45b8-e1f1-8e9ef93f5651",
        "colab": {
          "base_uri": "https://localhost:8080/",
          "height": 403
        }
      },
      "source": [
        "model = Sequential()\n",
        "model.add(Embedding(total_words, 100, input_length=max_sequence_len-1))\n",
        "model.add(Bidirectional(LSTM(150, return_sequences = True)))\n",
        "model.add(Dropout(0.2))\n",
        "model.add(LSTM(100))\n",
        "model.add(Dense(total_words/2, activation='relu', kernel_regularizer=regularizers.l2(0.01)))\n",
        "model.add(Dense(total_words, activation='softmax'))\n",
        "model.compile(loss='categorical_crossentropy', optimizer='adam', metrics=['accuracy'])\n",
        "print(model.summary())\n",
        "\n"
      ],
      "execution_count": 0,
      "outputs": [
        {
          "output_type": "stream",
          "text": [
            "Model: \"sequential_3\"\n",
            "_________________________________________________________________\n",
            "Layer (type)                 Output Shape              Param #   \n",
            "=================================================================\n",
            "embedding_2 (Embedding)      (None, 10, 100)           321100    \n",
            "_________________________________________________________________\n",
            "bidirectional_1 (Bidirection (None, 10, 300)           301200    \n",
            "_________________________________________________________________\n",
            "dropout_1 (Dropout)          (None, 10, 300)           0         \n",
            "_________________________________________________________________\n",
            "lstm_3 (LSTM)                (None, 100)               160400    \n",
            "_________________________________________________________________\n",
            "dense_1 (Dense)              (None, 1605)              162105    \n",
            "_________________________________________________________________\n",
            "dense_2 (Dense)              (None, 3211)              5156866   \n",
            "=================================================================\n",
            "Total params: 6,101,671\n",
            "Trainable params: 6,101,671\n",
            "Non-trainable params: 0\n",
            "_________________________________________________________________\n",
            "None\n"
          ],
          "name": "stdout"
        }
      ]
    },
    {
      "cell_type": "code",
      "metadata": {
        "id": "AIg2f1HBxqof",
        "colab_type": "code",
        "outputId": "68d795ed-715c-431c-87cd-44037f133ff6",
        "colab": {
          "base_uri": "https://localhost:8080/",
          "height": 1000
        }
      },
      "source": [
        " history = model.fit(predictors, label, epochs=100, verbose=1)"
      ],
      "execution_count": 0,
      "outputs": [
        {
          "output_type": "stream",
          "text": [
            "Epoch 1/100\n",
            "15462/15462 [==============================] - 25s 2ms/sample - loss: 6.2961 - acc: 0.0273\n",
            "Epoch 2/100\n",
            "15462/15462 [==============================] - 25s 2ms/sample - loss: 6.1981 - acc: 0.0330\n",
            "Epoch 3/100\n",
            "15462/15462 [==============================] - 24s 2ms/sample - loss: 6.1139 - acc: 0.0376\n",
            "Epoch 4/100\n",
            "15462/15462 [==============================] - 25s 2ms/sample - loss: 6.0326 - acc: 0.0388\n",
            "Epoch 5/100\n",
            "15462/15462 [==============================] - 25s 2ms/sample - loss: 5.9411 - acc: 0.0417\n",
            "Epoch 6/100\n",
            "15462/15462 [==============================] - 25s 2ms/sample - loss: 5.8382 - acc: 0.0525\n",
            "Epoch 7/100\n",
            "15462/15462 [==============================] - 25s 2ms/sample - loss: 5.7243 - acc: 0.0574\n",
            "Epoch 8/100\n",
            "15462/15462 [==============================] - 25s 2ms/sample - loss: 5.6128 - acc: 0.0625\n",
            "Epoch 9/100\n",
            "15462/15462 [==============================] - 25s 2ms/sample - loss: 5.5116 - acc: 0.0700\n",
            "Epoch 10/100\n",
            "15462/15462 [==============================] - 24s 2ms/sample - loss: 5.4063 - acc: 0.0777\n",
            "Epoch 11/100\n",
            "15462/15462 [==============================] - 25s 2ms/sample - loss: 5.2983 - acc: 0.0843\n",
            "Epoch 12/100\n",
            "15462/15462 [==============================] - 24s 2ms/sample - loss: 5.1921 - acc: 0.0900\n",
            "Epoch 13/100\n",
            "15462/15462 [==============================] - 24s 2ms/sample - loss: 5.0918 - acc: 0.0965\n",
            "Epoch 14/100\n",
            "15462/15462 [==============================] - 25s 2ms/sample - loss: 4.9937 - acc: 0.1048\n",
            "Epoch 15/100\n",
            "15462/15462 [==============================] - 25s 2ms/sample - loss: 4.8927 - acc: 0.1145\n",
            "Epoch 16/100\n",
            "15462/15462 [==============================] - 24s 2ms/sample - loss: 4.7950 - acc: 0.1222\n",
            "Epoch 17/100\n",
            "15462/15462 [==============================] - 25s 2ms/sample - loss: 4.6995 - acc: 0.1297\n",
            "Epoch 18/100\n",
            "15462/15462 [==============================] - 24s 2ms/sample - loss: 4.6097 - acc: 0.1396\n",
            "Epoch 19/100\n",
            "15462/15462 [==============================] - 25s 2ms/sample - loss: 4.5042 - acc: 0.1515\n",
            "Epoch 20/100\n",
            "15462/15462 [==============================] - 25s 2ms/sample - loss: 4.4124 - acc: 0.1603\n",
            "Epoch 21/100\n",
            "15462/15462 [==============================] - 25s 2ms/sample - loss: 4.3163 - acc: 0.1727\n",
            "Epoch 22/100\n",
            "15462/15462 [==============================] - 24s 2ms/sample - loss: 4.2103 - acc: 0.1841\n",
            "Epoch 23/100\n",
            "15462/15462 [==============================] - 24s 2ms/sample - loss: 4.1145 - acc: 0.1963\n",
            "Epoch 24/100\n",
            "15462/15462 [==============================] - 25s 2ms/sample - loss: 4.0223 - acc: 0.2110\n",
            "Epoch 25/100\n",
            "15462/15462 [==============================] - 24s 2ms/sample - loss: 3.9254 - acc: 0.2236\n",
            "Epoch 26/100\n",
            "15462/15462 [==============================] - 24s 2ms/sample - loss: 3.8241 - acc: 0.2407\n",
            "Epoch 27/100\n",
            "15462/15462 [==============================] - 25s 2ms/sample - loss: 3.7303 - acc: 0.2571\n",
            "Epoch 28/100\n",
            "15462/15462 [==============================] - 24s 2ms/sample - loss: 3.6366 - acc: 0.2761\n",
            "Epoch 29/100\n",
            "15462/15462 [==============================] - 24s 2ms/sample - loss: 3.5459 - acc: 0.2899\n",
            "Epoch 30/100\n",
            "15462/15462 [==============================] - 25s 2ms/sample - loss: 3.4576 - acc: 0.3110\n",
            "Epoch 31/100\n",
            "15462/15462 [==============================] - 24s 2ms/sample - loss: 3.3624 - acc: 0.3285\n",
            "Epoch 32/100\n",
            "15462/15462 [==============================] - 25s 2ms/sample - loss: 3.2876 - acc: 0.3465\n",
            "Epoch 33/100\n",
            "15462/15462 [==============================] - 25s 2ms/sample - loss: 3.2054 - acc: 0.3677\n",
            "Epoch 34/100\n",
            "15462/15462 [==============================] - 25s 2ms/sample - loss: 3.1301 - acc: 0.3877\n",
            "Epoch 35/100\n",
            "15462/15462 [==============================] - 24s 2ms/sample - loss: 3.0398 - acc: 0.4075\n",
            "Epoch 36/100\n",
            "15462/15462 [==============================] - 24s 2ms/sample - loss: 2.9748 - acc: 0.4210\n",
            "Epoch 37/100\n",
            "15462/15462 [==============================] - 25s 2ms/sample - loss: 2.9000 - acc: 0.4345\n",
            "Epoch 38/100\n",
            "15462/15462 [==============================] - 24s 2ms/sample - loss: 2.8295 - acc: 0.4523\n",
            "Epoch 39/100\n",
            "15462/15462 [==============================] - 25s 2ms/sample - loss: 2.7616 - acc: 0.4709\n",
            "Epoch 40/100\n",
            "15462/15462 [==============================] - 25s 2ms/sample - loss: 2.6930 - acc: 0.4811\n",
            "Epoch 41/100\n",
            "15462/15462 [==============================] - 24s 2ms/sample - loss: 2.6326 - acc: 0.4976\n",
            "Epoch 42/100\n",
            "15462/15462 [==============================] - 24s 2ms/sample - loss: 2.5865 - acc: 0.5058\n",
            "Epoch 43/100\n",
            "15462/15462 [==============================] - 24s 2ms/sample - loss: 2.5212 - acc: 0.5222\n",
            "Epoch 44/100\n",
            "15462/15462 [==============================] - 25s 2ms/sample - loss: 2.4658 - acc: 0.5376\n",
            "Epoch 45/100\n",
            "15462/15462 [==============================] - 24s 2ms/sample - loss: 2.4187 - acc: 0.5473\n",
            "Epoch 46/100\n",
            "15462/15462 [==============================] - 25s 2ms/sample - loss: 2.3592 - acc: 0.5561\n",
            "Epoch 47/100\n",
            "15462/15462 [==============================] - 25s 2ms/sample - loss: 2.3151 - acc: 0.5700\n",
            "Epoch 48/100\n",
            "15462/15462 [==============================] - 24s 2ms/sample - loss: 2.2602 - acc: 0.5827\n",
            "Epoch 49/100\n",
            "15462/15462 [==============================] - 25s 2ms/sample - loss: 2.2053 - acc: 0.5927\n",
            "Epoch 50/100\n",
            "15462/15462 [==============================] - 25s 2ms/sample - loss: 2.1757 - acc: 0.5972\n",
            "Epoch 51/100\n",
            "15462/15462 [==============================] - 24s 2ms/sample - loss: 2.1320 - acc: 0.6098\n",
            "Epoch 52/100\n",
            "15462/15462 [==============================] - 25s 2ms/sample - loss: 2.0792 - acc: 0.6201\n",
            "Epoch 53/100\n",
            "15462/15462 [==============================] - 25s 2ms/sample - loss: 2.0446 - acc: 0.6296\n",
            "Epoch 54/100\n",
            "15462/15462 [==============================] - 24s 2ms/sample - loss: 2.0020 - acc: 0.6370\n",
            "Epoch 55/100\n",
            "15462/15462 [==============================] - 24s 2ms/sample - loss: 1.9759 - acc: 0.6435\n",
            "Epoch 56/100\n",
            "15462/15462 [==============================] - 25s 2ms/sample - loss: 1.9389 - acc: 0.6524\n",
            "Epoch 57/100\n",
            "15462/15462 [==============================] - 25s 2ms/sample - loss: 1.8940 - acc: 0.6600\n",
            "Epoch 58/100\n",
            "15462/15462 [==============================] - 24s 2ms/sample - loss: 1.8754 - acc: 0.6621\n",
            "Epoch 59/100\n",
            "15462/15462 [==============================] - 25s 2ms/sample - loss: 1.8353 - acc: 0.6731\n",
            "Epoch 60/100\n",
            "15462/15462 [==============================] - 25s 2ms/sample - loss: 1.8010 - acc: 0.6861\n",
            "Epoch 61/100\n",
            "15462/15462 [==============================] - 24s 2ms/sample - loss: 1.7777 - acc: 0.6843\n",
            "Epoch 62/100\n",
            "15462/15462 [==============================] - 24s 2ms/sample - loss: 1.7395 - acc: 0.6931\n",
            "Epoch 63/100\n",
            "15462/15462 [==============================] - 25s 2ms/sample - loss: 1.7047 - acc: 0.7048\n",
            "Epoch 64/100\n",
            "15462/15462 [==============================] - 25s 2ms/sample - loss: 1.6739 - acc: 0.7077\n",
            "Epoch 65/100\n",
            "15462/15462 [==============================] - 24s 2ms/sample - loss: 1.6562 - acc: 0.7111\n",
            "Epoch 66/100\n",
            "15462/15462 [==============================] - 25s 2ms/sample - loss: 1.6327 - acc: 0.7163\n",
            "Epoch 67/100\n",
            "15462/15462 [==============================] - 24s 2ms/sample - loss: 1.6127 - acc: 0.7213\n",
            "Epoch 68/100\n",
            "15462/15462 [==============================] - 24s 2ms/sample - loss: 1.5875 - acc: 0.7245\n",
            "Epoch 69/100\n",
            "15462/15462 [==============================] - 25s 2ms/sample - loss: 1.5534 - acc: 0.7328\n",
            "Epoch 70/100\n",
            "15462/15462 [==============================] - 25s 2ms/sample - loss: 1.5366 - acc: 0.7358\n",
            "Epoch 71/100\n",
            "15462/15462 [==============================] - 25s 2ms/sample - loss: 1.5062 - acc: 0.7403\n",
            "Epoch 72/100\n",
            "15462/15462 [==============================] - 25s 2ms/sample - loss: 1.4836 - acc: 0.7449\n",
            "Epoch 73/100\n",
            "15462/15462 [==============================] - 25s 2ms/sample - loss: 1.4753 - acc: 0.7457\n",
            "Epoch 74/100\n",
            "15462/15462 [==============================] - 25s 2ms/sample - loss: 1.4417 - acc: 0.7520\n",
            "Epoch 75/100\n",
            "15462/15462 [==============================] - 25s 2ms/sample - loss: 1.4438 - acc: 0.7503\n",
            "Epoch 76/100\n",
            "15462/15462 [==============================] - 25s 2ms/sample - loss: 1.4153 - acc: 0.7563\n",
            "Epoch 77/100\n",
            "15462/15462 [==============================] - 24s 2ms/sample - loss: 1.3937 - acc: 0.7616\n",
            "Epoch 78/100\n",
            "15462/15462 [==============================] - 24s 2ms/sample - loss: 1.3706 - acc: 0.7661\n",
            "Epoch 79/100\n",
            "15462/15462 [==============================] - 25s 2ms/sample - loss: 1.3590 - acc: 0.7688\n",
            "Epoch 80/100\n",
            "15462/15462 [==============================] - 25s 2ms/sample - loss: 1.3511 - acc: 0.7678\n",
            "Epoch 81/100\n",
            "15462/15462 [==============================] - 25s 2ms/sample - loss: 1.3211 - acc: 0.7762\n",
            "Epoch 82/100\n",
            "15462/15462 [==============================] - 25s 2ms/sample - loss: 1.3077 - acc: 0.7789\n",
            "Epoch 83/100\n",
            "15462/15462 [==============================] - 25s 2ms/sample - loss: 1.2983 - acc: 0.7810\n",
            "Epoch 84/100\n",
            "15462/15462 [==============================] - 25s 2ms/sample - loss: 1.2803 - acc: 0.7813\n",
            "Epoch 85/100\n",
            "15462/15462 [==============================] - 24s 2ms/sample - loss: 1.2687 - acc: 0.7837\n",
            "Epoch 86/100\n",
            "15462/15462 [==============================] - 25s 2ms/sample - loss: 1.2659 - acc: 0.7823\n",
            "Epoch 87/100\n",
            "15462/15462 [==============================] - 24s 2ms/sample - loss: 1.2482 - acc: 0.7853\n",
            "Epoch 88/100\n",
            "15462/15462 [==============================] - 24s 2ms/sample - loss: 1.2335 - acc: 0.7884\n",
            "Epoch 89/100\n",
            "15462/15462 [==============================] - 25s 2ms/sample - loss: 1.2262 - acc: 0.7916\n",
            "Epoch 90/100\n",
            "15462/15462 [==============================] - 24s 2ms/sample - loss: 1.2154 - acc: 0.7946\n",
            "Epoch 91/100\n",
            "15462/15462 [==============================] - 24s 2ms/sample - loss: 1.2081 - acc: 0.7912\n",
            "Epoch 92/100\n",
            "15462/15462 [==============================] - 25s 2ms/sample - loss: 1.1885 - acc: 0.7955\n",
            "Epoch 93/100\n",
            "15462/15462 [==============================] - 25s 2ms/sample - loss: 1.1709 - acc: 0.8003\n",
            "Epoch 94/100\n",
            "15462/15462 [==============================] - 25s 2ms/sample - loss: 1.1550 - acc: 0.8030\n",
            "Epoch 95/100\n",
            "15462/15462 [==============================] - 25s 2ms/sample - loss: 1.1420 - acc: 0.8065\n",
            "Epoch 96/100\n",
            "15462/15462 [==============================] - 25s 2ms/sample - loss: 1.1575 - acc: 0.7992\n",
            "Epoch 97/100\n",
            "15462/15462 [==============================] - 25s 2ms/sample - loss: 1.1422 - acc: 0.8014\n",
            "Epoch 98/100\n",
            "15462/15462 [==============================] - 25s 2ms/sample - loss: 1.1322 - acc: 0.8039\n",
            "Epoch 99/100\n",
            "15462/15462 [==============================] - 25s 2ms/sample - loss: 1.1138 - acc: 0.8075\n",
            "Epoch 100/100\n",
            "15462/15462 [==============================] - 24s 2ms/sample - loss: 1.1140 - acc: 0.8044\n"
          ],
          "name": "stdout"
        }
      ]
    },
    {
      "cell_type": "code",
      "metadata": {
        "id": "1fXTEO3GJ282",
        "colab_type": "code",
        "outputId": "f7ddb74c-56b0-4141-a2da-b411cede3f8c",
        "colab": {
          "base_uri": "https://localhost:8080/",
          "height": 545
        }
      },
      "source": [
        "import matplotlib.pyplot as plt\n",
        "acc = history.history['acc']\n",
        "loss = history.history['loss']\n",
        "\n",
        "epochs = range(len(acc))\n",
        "\n",
        "plt.plot(epochs, acc, 'b', label='Training accuracy')\n",
        "plt.title('Training accuracy')\n",
        "\n",
        "plt.figure()\n",
        "\n",
        "plt.plot(epochs, loss, 'b', label='Training Loss')\n",
        "plt.title('Training loss')\n",
        "plt.legend()\n",
        "\n",
        "plt.show()"
      ],
      "execution_count": 0,
      "outputs": [
        {
          "output_type": "display_data",
          "data": {
            "image/png": "[encoded data removed]",
            "text/plain": [
              "<Figure size 432x288 with 1 Axes>"
            ]
          },
          "metadata": {
            "tags": []
          }
        },
        {
          "output_type": "display_data",
          "data": {
            "image/png": "[encoded data removed]",
            "text/plain": [
              "<Figure size 432x288 with 1 Axes>"
            ]
          },
          "metadata": {
            "tags": []
          }
        }
      ]
    },
    {
      "cell_type": "code",
      "metadata": {
        "id": "6Vc6PHgxa6Hm",
        "colab_type": "code",
        "outputId": "3ed5aada-2a92-4616-c737-b5cd087e64f3",
        "colab": {
          "base_uri": "https://localhost:8080/",
          "height": 55
        }
      },
      "source": [
        "seed_text = \"Help me Obi Wan Kenobi, you're my only hope\"\n",
        "next_words = 100\n",
        "  \n",
        "for _ in range(next_words):\n",
        "\ttoken_list = tokenizer.texts_to_sequences([seed_text])[0]\n",
        "\ttoken_list = pad_sequences([token_list], maxlen=max_sequence_len-1, padding='pre')\n",
        "\tpredicted = model.predict_classes(token_list, verbose=0)\n",
        "\toutput_word = \"\"\n",
        "\tfor word, index in tokenizer.word_index.items():\n",
        "\t\tif index == predicted:\n",
        "\t\t\toutput_word = word\n",
        "\t\t\tbreak\n",
        "\tseed_text += \" \" + output_word\n",
        "print(seed_text)"
      ],
      "execution_count": 0,
      "outputs": [
        {
          "output_type": "stream",
          "text": [
            "Help me Obi Wan Kenobi, you're my only hope no sin may dwell his shame ward sweetness tell his show stell'd brought of men dead shown youth knowing his memory groan sang hate men now things may dwell me decay thee seen proceeds proceeds afloat buried part well due alone lived doth look they see me in their face decay youth may dwell old shade shines now long alone knowing his treasure held seeming foes hits sang survey behind small great moan men back said it much much bright bright twain grow held dead commend ' seen live bright told 'tis behind back confounds their face now bright none\n"
          ],
          "name": "stdout"
        }
      ]
    },
    {
      "cell_type": "code",
      "metadata": {
        "id": "L8iQ8kXbPp_A",
        "colab_type": "code",
        "colab": {}
      },
      "source": [
        ""
      ],
      "execution_count": 0,
      "outputs": []
    }
  ]
}